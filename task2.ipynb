{
 "cells": [
  {
   "cell_type": "code",
   "execution_count": 33,
   "metadata": {},
   "outputs": [],
   "source": [
    "import numpy as np\n",
    "import pandas as pd\n",
    "import matplotlib.pyplot as plt\n",
    "import sklearn as sk\n",
    "import sys"
   ]
  },
  {
   "cell_type": "code",
   "execution_count": 72,
   "metadata": {},
   "outputs": [
    {
     "data": {
      "text/plain": [
       "(array([  2.,   0.,   1.,   0.,   1.,   2.,   0.,   4.,   2.,   6.,   1.,\n",
       "          3.,   5.,   9.,   5.,   8.,  13.,  12.,  16.,  24.,  25.,  31.,\n",
       "         43.,  54.,  71.,  45.,  78.,  68.,  94.,  82., 105., 114., 119.,\n",
       "        156., 140., 172., 182., 199., 200., 212., 256., 239., 261., 266.,\n",
       "        272., 299., 295., 296., 302., 329., 287., 317., 292., 258., 257.,\n",
       "        244., 284., 231., 209., 241., 221., 202., 209., 164., 149., 141.,\n",
       "        150., 138., 109.,  88., 107.,  76.,  79.,  82.,  58.,  42.,  37.,\n",
       "         37.,  36.,  26.,  16.,  14.,  16.,  14.,   7.,   8.,   6.,   5.,\n",
       "          6.,   1.,   6.,   5.,   3.,   0.,   0.,   0.,   1.,   1.,   0.,\n",
       "          1.]),\n",
       " array([-3.68517039, -3.61110952, -3.53704864, -3.46298776, -3.38892688,\n",
       "        -3.314866  , -3.24080512, -3.16674424, -3.09268336, -3.01862248,\n",
       "        -2.94456161, -2.87050073, -2.79643985, -2.72237897, -2.64831809,\n",
       "        -2.57425721, -2.50019633, -2.42613545, -2.35207457, -2.2780137 ,\n",
       "        -2.20395282, -2.12989194, -2.05583106, -1.98177018, -1.9077093 ,\n",
       "        -1.83364842, -1.75958754, -1.68552667, -1.61146579, -1.53740491,\n",
       "        -1.46334403, -1.38928315, -1.31522227, -1.24116139, -1.16710051,\n",
       "        -1.09303963, -1.01897876, -0.94491788, -0.870857  , -0.79679612,\n",
       "        -0.72273524, -0.64867436, -0.57461348, -0.5005526 , -0.42649172,\n",
       "        -0.35243085, -0.27836997, -0.20430909, -0.13024821, -0.05618733,\n",
       "         0.01787355,  0.09193443,  0.16599531,  0.24005619,  0.31411706,\n",
       "         0.38817794,  0.46223882,  0.5362997 ,  0.61036058,  0.68442146,\n",
       "         0.75848234,  0.83254322,  0.9066041 ,  0.98066497,  1.05472585,\n",
       "         1.12878673,  1.20284761,  1.27690849,  1.35096937,  1.42503025,\n",
       "         1.49909113,  1.573152  ,  1.64721288,  1.72127376,  1.79533464,\n",
       "         1.86939552,  1.9434564 ,  2.01751728,  2.09157816,  2.16563904,\n",
       "         2.23969991,  2.31376079,  2.38782167,  2.46188255,  2.53594343,\n",
       "         2.61000431,  2.68406519,  2.75812607,  2.83218695,  2.90624782,\n",
       "         2.9803087 ,  3.05436958,  3.12843046,  3.20249134,  3.27655222,\n",
       "         3.3506131 ,  3.42467398,  3.49873486,  3.57279573,  3.64685661,\n",
       "         3.72091749]),\n",
       " <BarContainer object of 100 artists>)"
      ]
     },
     "execution_count": 72,
     "metadata": {},
     "output_type": "execute_result"
    },
    {
     "data": {
      "image/png": "[encoded data removed]",
      "text/plain": [
       "<Figure size 432x288 with 1 Axes>"
      ]
     },
     "metadata": {
      "needs_background": "light"
     },
     "output_type": "display_data"
    }
   ],
   "source": [
    "# Генерируем уникальный seed\n",
    "my_code = \"Мосалов\"\n",
    "seed_limit = 2 ** 32\n",
    "my_seed = int.from_bytes(my_code.encode(), \"little\") % seed_limit\n",
    "\n",
    "np.random.seed(my_seed)\n",
    "\n",
    "# Формируем случайную выборку\n",
    "#sample = np.random.randint(1, 101, size=10000)\n",
    "sample = np.random.normal(0, 1, 10000)\n",
    "sample = np.sort(sample)\n",
    "plt.hist(sample, bins=100)"
   ]
  },
  {
   "cell_type": "code",
   "execution_count": null,
   "metadata": {},
   "outputs": [],
   "source": [
    "# Создайте три подвыборки: s_1 - обучающая, s_2 - валидационная, s_3 - тестовая,\n",
    "# так чтобы первые 60% выборки попали в s_1, следующие 20% - в s_2, а оставшиеся 20% - в s_3:"
   ]
  },
  {
   "cell_type": "code",
   "execution_count": null,
   "metadata": {},
   "outputs": [],
   "source": [
    "# Создайте три подвыборки: s_rnd_1 - обучающая, s_rnd_2 - валидационная, s_rnd_3 - тестовая, \n",
    "# выбирая значения из sample случайным образом:"
   ]
  },
  {
   "cell_type": "code",
   "execution_count": null,
   "metadata": {},
   "outputs": [],
   "source": [
    "# Выведите и сравните гистограммы для пар\n",
    "# s_1 и s_rnd_1:\n",
    "\n",
    "# s_2 и s_rnd_2:\n",
    "\n",
    "# s_3 и s_rnd_3:"
   ]
  },
  {
   "cell_type": "code",
   "execution_count": 73,
   "metadata": {},
   "outputs": [
    {
     "data": {
      "image/png": "[encoded data removed]",
      "text/plain": [
       "<Figure size 432x288 with 1 Axes>"
      ]
     },
     "metadata": {
      "needs_background": "light"
     },
     "output_type": "display_data"
    },
    {
     "data": {
      "text/plain": [
       "(array([  1.,   0.,   0.,   0.,   1.,   1.,   0.,   2.,   1.,   2.,   3.,\n",
       "          0.,   1.,   2.,   1.,   3.,   1.,   3.,   4.,   7.,  10.,  11.,\n",
       "         12.,  24.,  25.,  25.,  22.,  32.,  34.,  43.,  44.,  52.,  45.,\n",
       "         46.,  67.,  57.,  78.,  85.,  92.,  82.,  95., 100., 103., 120.,\n",
       "        112., 117., 118., 129., 125., 122., 155., 109., 148., 129., 109.,\n",
       "         98., 111., 106., 114.,  90.,  99., 119.,  87.,  90.,  70.,  63.,\n",
       "         58.,  75.,  66.,  55.,  48.,  48.,  35.,  31.,  26.,  39.,  17.,\n",
       "         16.,  18.,  20.,  14.,   6.,   9.,  11.,   4.,   5.,   4.,   6.,\n",
       "          3.,   3.,   1.,   0.,   1.,   1.,   2.,   0.,   0.,   0.,   0.,\n",
       "          2.]),\n",
       " array([-3.68517039e+00, -3.61291774e+00, -3.54066509e+00, -3.46841243e+00,\n",
       "        -3.39615978e+00, -3.32390713e+00, -3.25165447e+00, -3.17940182e+00,\n",
       "        -3.10714917e+00, -3.03489651e+00, -2.96264386e+00, -2.89039121e+00,\n",
       "        -2.81813855e+00, -2.74588590e+00, -2.67363325e+00, -2.60138059e+00,\n",
       "        -2.52912794e+00, -2.45687529e+00, -2.38462263e+00, -2.31236998e+00,\n",
       "        -2.24011733e+00, -2.16786467e+00, -2.09561202e+00, -2.02335936e+00,\n",
       "        -1.95110671e+00, -1.87885406e+00, -1.80660140e+00, -1.73434875e+00,\n",
       "        -1.66209610e+00, -1.58984344e+00, -1.51759079e+00, -1.44533814e+00,\n",
       "        -1.37308548e+00, -1.30083283e+00, -1.22858018e+00, -1.15632752e+00,\n",
       "        -1.08407487e+00, -1.01182222e+00, -9.39569563e-01, -8.67316909e-01,\n",
       "        -7.95064256e-01, -7.22811602e-01, -6.50558949e-01, -5.78306295e-01,\n",
       "        -5.06053642e-01, -4.33800988e-01, -3.61548335e-01, -2.89295681e-01,\n",
       "        -2.17043028e-01, -1.44790374e-01, -7.25377209e-02, -2.85067469e-04,\n",
       "         7.19675860e-02,  1.44220239e-01,  2.16472893e-01,  2.88725546e-01,\n",
       "         3.60978200e-01,  4.33230853e-01,  5.05483507e-01,  5.77736160e-01,\n",
       "         6.49988814e-01,  7.22241467e-01,  7.94494121e-01,  8.66746774e-01,\n",
       "         9.38999428e-01,  1.01125208e+00,  1.08350473e+00,  1.15575739e+00,\n",
       "         1.22801004e+00,  1.30026270e+00,  1.37251535e+00,  1.44476800e+00,\n",
       "         1.51702066e+00,  1.58927331e+00,  1.66152596e+00,  1.73377862e+00,\n",
       "         1.80603127e+00,  1.87828392e+00,  1.95053658e+00,  2.02278923e+00,\n",
       "         2.09504188e+00,  2.16729454e+00,  2.23954719e+00,  2.31179984e+00,\n",
       "         2.38405250e+00,  2.45630515e+00,  2.52855780e+00,  2.60081046e+00,\n",
       "         2.67306311e+00,  2.74531576e+00,  2.81756842e+00,  2.88982107e+00,\n",
       "         2.96207372e+00,  3.03432638e+00,  3.10657903e+00,  3.17883169e+00,\n",
       "         3.25108434e+00,  3.32333699e+00,  3.39558965e+00,  3.46784230e+00,\n",
       "         3.54009495e+00]),\n",
       " <BarContainer object of 100 artists>)"
      ]
     },
     "execution_count": 73,
     "metadata": {},
     "output_type": "execute_result"
    },
    {
     "data": {
      "image/png": "[encoded data removed]",
      "text/plain": [
       "<Figure size 432x288 with 1 Axes>"
      ]
     },
     "metadata": {
      "needs_background": "light"
     },
     "output_type": "display_data"
    }
   ],
   "source": [
    "s_1 = sample[0:6000]\n",
    "s_2 = sample[6000:8000]\n",
    "s_3 = sample[8000:10000]\n",
    "\n",
    "s_rnd_1 = []\n",
    "s_rnd_2 = []\n",
    "s_rnd_3 = []\n",
    "\n",
    "for i in sample:\n",
    "    if np.random.randint(3) == 0 : s_rnd_1.append(i)\n",
    "    elif np.random.randint(3) == 1 : s_rnd_2.append(i)\n",
    "    else : s_rnd_3.append(i)\n",
    "\n",
    "plt.hist(s_3, bins=100)\n",
    "plt.show()\n",
    "plt.hist(s_rnd_3, bins=100)"
   ]
  }
 ],
 "metadata": {
  "kernelspec": {
   "display_name": "Python 3",
   "language": "python",
   "name": "python3"
  },
  "language_info": {
   "codemirror_mode": {
    "name": "ipython",
    "version": 3
   },
   "file_extension": ".py",
   "mimetype": "text/x-python",
   "name": "python",
   "nbconvert_exporter": "python",
   "pygments_lexer": "ipython3",
   "version": "3.7.8"
  }
 },
 "nbformat": 4,
 "nbformat_minor": 2
}
